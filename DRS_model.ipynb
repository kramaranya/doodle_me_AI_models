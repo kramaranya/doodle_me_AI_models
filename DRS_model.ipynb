{
 "cells": [
  {
   "cell_type": "code",
   "execution_count": null,
   "id": "16906912-97b2-4c9e-99e8-b78f844797aa",
   "metadata": {},
   "outputs": [],
   "source": [
    "import numpy as np\n",
    "import os\n",
    "import glob\n",
    "from sklearn.model_selection import train_test_split\n",
    "import tensorflow as tf\n",
    "from random import randint\n",
    "import matplotlib.pyplot as plt\n",
    "%matplotlib inline  \n",
    "import keras\n",
    "from keras.models import Sequential\n",
    "from keras.layers import Conv2D, MaxPooling2D, Dense, Flatten, Dropout, BatchNormalization\n",
    "from keras.optimizers import Adam\n",
    "from tensorflow.keras.callbacks import EarlyStopping"
   ]
  },
  {
   "cell_type": "code",
   "execution_count": null,
   "id": "f80dd5ed-d61d-4bc5-b2f1-a3c2408ea0e1",
   "metadata": {},
   "outputs": [],
   "source": [
    "with open('./npy/classes.txt', 'r') as f:\n",
    "    class_names = [line.strip() for line in f.readlines()]"
   ]
  },
  {
   "cell_type": "code",
   "execution_count": null,
   "id": "88c7d73c-d919-4a4e-8926-c48880979803",
   "metadata": {},
   "outputs": [],
   "source": [
    "def load_data(root, vfold_ratio=0.1, max_items_per_class=40000):\n",
    "    all_files = glob.glob(os.path.join(root, '*.npy'))\n",
    "\n",
    "    x = np.empty([0, 784])\n",
    "    y = np.empty([0])\n",
    "    class_names = []\n",
    "\n",
    "    for idx, file in enumerate(all_files):\n",
    "        print(idx)\n",
    "        print(file)\n",
    "        data = np.load(file)\n",
    "        data = data[0: max_items_per_class, :]\n",
    "        labels = np.full(data.shape[0], idx)\n",
    "\n",
    "        x = np.concatenate((x, data), axis=0)\n",
    "        y = np.append(y, labels)\n",
    "\n",
    "        class_name, ext = os.path.splitext(os.path.basename(file))\n",
    "        class_names.append(class_name)\n",
    "\n",
    "    data = None\n",
    "    labels = None\n",
    "    \n",
    "    permutation = np.random.permutation(y.shape[0])\n",
    "    x = x[permutation, :]\n",
    "    y = y[permutation]\n",
    "\n",
    "    vfold_size = int(x.shape[0]/100*(vfold_ratio*100))\n",
    "\n",
    "    x_test = x[0:vfold_size, :]\n",
    "    y_test = y[0:vfold_size]\n",
    "\n",
    "    x_train = x[vfold_size:x.shape[0], :]\n",
    "    y_train = y[vfold_size:y.shape[0]]\n",
    "    return x_train, y_train, x_test, y_test, class_names"
   ]
  },
  {
   "cell_type": "code",
   "execution_count": null,
   "id": "7f6f6178-147a-453b-a9d3-ccb0698d7cf6",
   "metadata": {},
   "outputs": [],
   "source": [
    "x_train, y_train, x_test, y_test, class_names = load_data('npy/data')\n",
    "num_classes = len(class_names)\n",
    "image_size = 28"
   ]
  },
  {
   "cell_type": "code",
   "execution_count": null,
   "id": "12c95b7a-b37e-493f-ac46-9bbebc87d68d",
   "metadata": {},
   "outputs": [],
   "source": [
    "print(len(x_train))\n",
    "print(len(y_train))\n",
    "print(len(x_test))\n",
    "print(len(y_test))"
   ]
  },
  {
   "cell_type": "code",
   "execution_count": null,
   "id": "69171c38-478a-4f88-a1c1-65ab196d0c36",
   "metadata": {},
   "outputs": [],
   "source": [
    "idx = randint(0, len(x_train))\n",
    "print(x_train[idx].reshape(28,28))\n",
    "plt.imshow(x_train[idx].reshape(28,28)) \n",
    "print(class_names[int(y_train[idx].item())])"
   ]
  },
  {
   "cell_type": "code",
   "execution_count": null,
   "id": "b0cfab8c-2b33-4aee-87aa-1989b6ecd18f",
   "metadata": {},
   "outputs": [],
   "source": [
    "x_train = x_train.reshape(x_train.shape[0], image_size, image_size, 1).astype('float32')\n",
    "x_test = x_test.reshape(x_test.shape[0], image_size, image_size, 1).astype('float32')"
   ]
  },
  {
   "cell_type": "code",
   "execution_count": null,
   "id": "b442ad4a-43d4-4647-8b0b-ff71a758c018",
   "metadata": {},
   "outputs": [],
   "source": [
    "x_train /= 255.0\n",
    "x_test /= 255.0"
   ]
  },
  {
   "cell_type": "code",
   "execution_count": null,
   "id": "6b16e6bf-55e6-491a-a897-0a1f5a294f21",
   "metadata": {},
   "outputs": [],
   "source": [
    "y_train = keras.utils.to_categorical(y_train, num_classes)\n",
    "y_test = keras.utils.to_categorical(y_test, num_classes)"
   ]
  },
  {
   "cell_type": "code",
   "execution_count": null,
   "id": "b7c66f5d-4fff-468c-b217-6e8a1ac618fb",
   "metadata": {},
   "outputs": [],
   "source": [
    "x_train.shape"
   ]
  },
  {
   "cell_type": "code",
   "execution_count": null,
   "id": "42b5907f-969d-439b-ae98-c6040e1d4196",
   "metadata": {},
   "outputs": [],
   "source": [
    "CNN_model = Sequential()\n",
    "\n",
    "CNN_model.add(Conv2D(32, (3, 3), padding='same', input_shape=x_train.shape[1:], activation='relu'))\n",
    "CNN_model.add(BatchNormalization())\n",
    "CNN_model.add(Conv2D(32, (3, 3), padding='same', activation='relu'))\n",
    "CNN_model.add(BatchNormalization())\n",
    "CNN_model.add(MaxPooling2D(pool_size=(2, 2)))\n",
    "\n",
    "CNN_model.add(Conv2D(64, (3, 3), padding='same', activation='relu'))\n",
    "CNN_model.add(BatchNormalization())\n",
    "CNN_model.add(Conv2D(64, (3, 3), padding='same', activation='relu'))\n",
    "CNN_model.add(BatchNormalization())\n",
    "CNN_model.add(MaxPooling2D(pool_size=(2, 2)))\n",
    "CNN_model.add(Dropout(0.1))\n",
    "\n",
    "CNN_model.add(Conv2D(128, (3, 3), padding='same', activation='relu'))\n",
    "CNN_model.add(BatchNormalization())\n",
    "CNN_model.add(Conv2D(128, (3, 3), padding='same', activation='relu'))\n",
    "CNN_model.add(BatchNormalization())\n",
    "CNN_model.add(MaxPooling2D(pool_size=(2, 2)))\n",
    "\n",
    "CNN_model.add(Conv2D(256, (3, 3), padding='same', activation='relu'))\n",
    "CNN_model.add(BatchNormalization())\n",
    "CNN_model.add(Conv2D(256, (3, 3), padding='same', activation='relu'))\n",
    "CNN_model.add(BatchNormalization())\n",
    "CNN_model.add(MaxPooling2D(pool_size=(2, 2)))\n",
    "CNN_model.add(Dropout(0.1))\n",
    "\n",
    "CNN_model.add(Flatten())\n",
    "CNN_model.add(Dense(512, activation='relu'))\n",
    "CNN_model.add(Dropout(0.1))\n",
    "CNN_model.add(Dense(345, activation='softmax'))\n",
    "\n",
    "optimizer = Adam(learning_rate=0.001)\n",
    "CNN_model.compile(loss='categorical_crossentropy', optimizer=optimizer, metrics=['top_k_categorical_accuracy'])\n",
    "\n",
    "print(CNN_model.summary())"
   ]
  },
  {
   "cell_type": "code",
   "execution_count": null,
   "id": "e91e2dc1-b418-4b74-ad3b-aa858ac57703",
   "metadata": {},
   "outputs": [],
   "source": [
    "history = CNN_model.fit(x = x_train, y = y_train, \n",
    "                    validation_split=0.1, batch_size = 256, \n",
    "                    verbose=2, epochs=40, \n",
    "                    callbacks=[EarlyStopping(monitor=\"val_loss\", patience=4, restore_best_weights=True)])"
   ]
  },
  {
   "cell_type": "code",
   "execution_count": null,
   "id": "ab50e625-47b0-4878-9364-53426eebed6e",
   "metadata": {},
   "outputs": [],
   "source": [
    "# Extract training history\n",
    "loss = history.history['loss']\n",
    "val_loss = history.history['val_loss']\n",
    "accuracy = history.history['top_k_categorical_accuracy']\n",
    "val_accuracy = history.history['val_top_k_categorical_accuracy']\n",
    "\n",
    "# Plot training and validation loss\n",
    "plt.figure(figsize=(12, 4))\n",
    "plt.subplot(1, 2, 1)\n",
    "plt.plot(loss, label='Training Loss')\n",
    "plt.plot(val_loss, label='Validation Loss')\n",
    "plt.xlabel('Epoch')\n",
    "plt.ylabel('Loss')\n",
    "plt.legend()\n",
    "\n",
    "# Plot training and validation accuracy\n",
    "plt.subplot(1, 2, 2)\n",
    "plt.plot(accuracy, label='Training Accuracy')\n",
    "plt.plot(val_accuracy, label='Validation Accracy')\n",
    "plt.xlabel('Epoch')\n",
    "plt.ylabel('Accuracy')\n",
    "plt.legend()"
   ]
  },
  {
   "cell_type": "code",
   "execution_count": null,
   "id": "25e34c62-3237-46d7-9011-cf87557a8d0f",
   "metadata": {},
   "outputs": [],
   "source": [
    "score = CNN_model.evaluate(x_test, y_test, verbose=0)\n",
    "print('Test accuarcy: {:0.2f}%'.format(score[1] * 100))"
   ]
  },
  {
   "cell_type": "code",
   "execution_count": null,
   "id": "059afc49-b566-4029-8958-0c6f67e6c59c",
   "metadata": {},
   "outputs": [],
   "source": [
    "predictions = CNN_model.predict(x_test)"
   ]
  },
  {
   "cell_type": "code",
   "execution_count": null,
   "id": "d2d6c144-ad14-4fd9-9643-822ca8d15668",
   "metadata": {},
   "outputs": [],
   "source": [
    "predicted_classes = np.argmax(predictions, axis=1)"
   ]
  },
  {
   "cell_type": "code",
   "execution_count": null,
   "id": "fc4bc25f-f047-49b3-a41c-9e58023d9038",
   "metadata": {},
   "outputs": [],
   "source": [
    "true_classes = np.argmax(y_test, axis=1)"
   ]
  },
  {
   "cell_type": "code",
   "execution_count": null,
   "id": "9ff0e148-8603-462c-80de-c76b511af874",
   "metadata": {},
   "outputs": [],
   "source": [
    "from sklearn.metrics import f1_score, roc_auc_score"
   ]
  },
  {
   "cell_type": "code",
   "execution_count": null,
   "id": "b8a56db8-cf31-480c-ba6d-5fd049b11efe",
   "metadata": {},
   "outputs": [],
   "source": [
    "f1 = f1_score(true_classes, predicted_classes, average='macro')\n",
    "print(f\"F1 Score (Macro): {f1:.4f}\")"
   ]
  },
  {
   "cell_type": "code",
   "execution_count": null,
   "id": "b223eb98-33bb-4d60-b477-961ec53247be",
   "metadata": {},
   "outputs": [],
   "source": [
    "from sklearn.preprocessing import label_binarize"
   ]
  },
  {
   "cell_type": "code",
   "execution_count": null,
   "id": "0d44e45f-5797-4ec2-87df-6689dc03ae4c",
   "metadata": {},
   "outputs": [],
   "source": [
    "n_classes = y_test.shape[1]\n",
    "y_test_binarized = label_binarize(true_classes, classes=[*range(n_classes)])"
   ]
  },
  {
   "cell_type": "code",
   "execution_count": null,
   "id": "00d00086-8daf-4f25-a356-d501991959ab",
   "metadata": {},
   "outputs": [],
   "source": [
    "auc = roc_auc_score(y_test_binarized, predictions, multi_class='ovr')\n",
    "print(f\"AUC (One-vs-Rest): {auc:.4f}\")"
   ]
  },
  {
   "cell_type": "code",
   "execution_count": null,
   "id": "5fba13bc-24ac-47eb-9b82-b2aa7d1776cc",
   "metadata": {},
   "outputs": [],
   "source": [
    "from sklearn.metrics import roc_curve, auc, confusion_matrix, RocCurveDisplay\n",
    "import itertools"
   ]
  },
  {
   "cell_type": "code",
   "execution_count": null,
   "id": "ab7a602d-5234-4642-a7ab-7b38333b221a",
   "metadata": {},
   "outputs": [],
   "source": [
    "n_classes = y_test.shape[1]\n",
    "y_test_binarized = label_binarize(np.argmax(y_test, axis=1), classes=[*range(n_classes)])"
   ]
  },
  {
   "cell_type": "code",
   "execution_count": null,
   "id": "a702f6f9-6d83-45f7-82ff-734a07528acb",
   "metadata": {},
   "outputs": [],
   "source": [
    "fpr = dict()\n",
    "tpr = dict()\n",
    "roc_auc = dict()\n",
    "for i in range(n_classes):\n",
    "    fpr[i], tpr[i], _ = roc_curve(y_test_binarized[:, i], predictions[:, i])\n",
    "    roc_auc[i] = auc(fpr[i], tpr[i])\n",
    "\n",
    "# Plotting all ROC curves\n",
    "plt.figure(figsize=(10, 8))\n",
    "colors = itertools.cycle(['blue', 'red', 'green', 'yellow', 'cyan', 'magenta', 'black'])\n",
    "for i, color in zip(range(n_classes), colors):\n",
    "    plt.plot(fpr[i], tpr[i], color=color, lw=2,\n",
    "             label='ROC curve of class {0} (area = {1:0.2f})'.format(i, roc_auc[i]))\n",
    "\n",
    "plt.plot([0, 1], [0, 1], 'k--', lw=2)\n",
    "plt.xlim([0.0, 1.0])\n",
    "plt.ylim([0.0, 1.05])\n",
    "plt.xlabel('False Positive Rate')\n",
    "plt.ylabel('True Positive Rate')\n",
    "plt.title('ROC Curve for multi-class')\n",
    "plt.savefig('ROC_Curve.png', format='png', dpi=300)  # Save as PNG with high resolution\n",
    "plt.savefig('ROC_Curve.pdf', format='pdf', dpi=300)\n",
    "plt.show()"
   ]
  },
  {
   "cell_type": "code",
   "execution_count": null,
   "id": "dd7ced72-52d9-4171-be41-6369a09ceb67",
   "metadata": {},
   "outputs": [],
   "source": [
    "RNN_model = Sequential()\n",
    "\n",
    "RNN_model.add(LSTM(64, return_sequences=True, input_shape=x_train.shape[1:])\n",
    "RNN_model.add(Dropout(0.1))\n",
    "\n",
    "RNN_model.add(LSTM(128, return_sequences=True))\n",
    "RNN_model.add(LSTM(256, return_sequences=True))\n",
    "RNN_model.add(Dropout(0.1))\n",
    "\n",
    "RNN_model.add(LSTM(512, return_sequences=True))\n",
    "RNN_model.add(LSTM(256, return_sequences=True))\n",
    "RNN_model.add(Dropout(0.1))\n",
    "\n",
    "RNN_model.add(LSTM(128, return_sequences=True))\n",
    "RNN_model.add(LSTM(256, return_sequences=True))\n",
    "RNN_model.add(Dropout(0.1))\n",
    "\n",
    "RNN_model.add(LSTM(128)) \n",
    "RNN_model.add(Dropout(0.1))\n",
    "\n",
    "RNN_model.add(Dense(512, activation='relu'))\n",
    "RNN_model.add(Dropout(0.1))\n",
    "\n",
    "RNN_model.add(Dense(345, activation='softmax'))\n",
    "\n",
    "optimizer = Adam(learning_rate=0.001)\n",
    "RNN_model.compile(loss='categorical_crossentropy', optimizer=optimizer, metrics=['accuracy'])\n",
    "\n",
    "print(RNN_model.summary())"
   ]
  },
  {
   "cell_type": "code",
   "execution_count": null,
   "id": "c6f4fd66-6e36-4185-bb80-0376f8b3a3a5",
   "metadata": {},
   "outputs": [],
   "source": [
    "history = RNN_model.fit(x = x_train, y = y_train, \n",
    "                    validation_split=0.1, batch_size = 256, \n",
    "                    verbose=2, epochs=40, \n",
    "                    callbacks=[EarlyStopping(monitor=\"val_loss\", patience=4, restore_best_weights=True)])"
   ]
  },
  {
   "cell_type": "code",
   "execution_count": null,
   "id": "bc87f9f0-f780-43a7-b611-5629974a1afe",
   "metadata": {},
   "outputs": [],
   "source": [
    "# Extract training history\n",
    "loss = history.history['loss']\n",
    "val_loss = history.history['val_loss']\n",
    "accuracy = history.history['top_k_categorical_accuracy']\n",
    "val_accuracy = history.history['val_top_k_categorical_accuracy']\n",
    "\n",
    "# Plot training and validation loss\n",
    "plt.figure(figsize=(12, 4))\n",
    "plt.subplot(1, 2, 1)\n",
    "plt.plot(loss, label='Training Loss')\n",
    "plt.plot(val_loss, label='Validation Loss')\n",
    "plt.xlabel('Epoch')\n",
    "plt.ylabel('Loss')\n",
    "plt.legend()\n",
    "\n",
    "# Plot training and validation accuracy\n",
    "plt.subplot(1, 2, 2)\n",
    "plt.plot(accuracy, label='Training Accuracy')\n",
    "plt.plot(val_accuracy, label='Validation Accracy')\n",
    "plt.xlabel('Epoch')\n",
    "plt.ylabel('Accuracy')\n",
    "plt.legend()"
   ]
  },
  {
   "cell_type": "code",
   "execution_count": null,
   "id": "7fa501c9-d4f9-4bde-aaf5-31282656789a",
   "metadata": {},
   "outputs": [],
   "source": [
    "score = RNN_model.evaluate(x_test, y_test, verbose=0)\n",
    "print('Test accuarcy: {:0.2f}%'.format(score[1] * 100))"
   ]
  },
  {
   "cell_type": "code",
   "execution_count": null,
   "id": "2ed3e359-031b-496e-a3de-dd5ffa6b9e5e",
   "metadata": {},
   "outputs": [],
   "source": [
    "CNN_model.save('CNN_model')"
   ]
  },
  {
   "cell_type": "code",
   "execution_count": null,
   "id": "73d80f0c-d729-4bad-a72b-7c0eb6531d70",
   "metadata": {},
   "outputs": [],
   "source": [
    "converter = tf.lite.TFLiteConverter.from_saved_model('CNN_model')"
   ]
  },
  {
   "cell_type": "code",
   "execution_count": null,
   "id": "ffec2f24-e834-4555-9df4-35ebf8681e54",
   "metadata": {},
   "outputs": [],
   "source": [
    "tflite_model = converter.convert()"
   ]
  },
  {
   "cell_type": "code",
   "execution_count": null,
   "id": "9a6b3261-b657-41c4-adf0-0786b7a6d231",
   "metadata": {},
   "outputs": [],
   "source": [
    "with open('CNN_model.tflite', 'wb') as f:\n",
    "    f.write(tflite_model)"
   ]
  },
  {
   "cell_type": "code",
   "execution_count": null,
   "id": "ce2ad7a8-1d72-4722-a05d-72f6193cd91c",
   "metadata": {},
   "outputs": [],
   "source": []
  }
 ],
 "metadata": {
  "kernelspec": {
   "display_name": "Python 3 (ipykernel)",
   "language": "python",
   "name": "python3"
  },
  "language_info": {
   "codemirror_mode": {
    "name": "ipython",
    "version": 3
   },
   "file_extension": ".py",
   "mimetype": "text/x-python",
   "name": "python",
   "nbconvert_exporter": "python",
   "pygments_lexer": "ipython3",
   "version": "3.9.6"
  }
 },
 "nbformat": 4,
 "nbformat_minor": 5
}
